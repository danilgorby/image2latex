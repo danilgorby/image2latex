{
 "cells": [
  {
   "cell_type": "code",
   "execution_count": 3,
   "metadata": {
    "id": "K-LAHOAyPLnm"
   },
   "outputs": [],
   "source": [
    "import subprocess\n",
    "import os\n",
    "from os.path import join\n",
    "import random\n",
    "\n",
    "def download_dataset(url: str, dataset_dir: str):\n",
    "    download_dir = os.path.dirname(dataset_dir)\n",
    "    download_command_result = subprocess.run([\"wget\", url, \"-P\", download_dir], capture_output=True, encoding=\"utf-8\")\n",
    "    if download_command_result.returncode != 0:\n",
    "        raise RuntimeError(f\"Failed to download dataset. Error:\\n{download_command_result.stderr}\")\n",
    "\n",
    "data_paths = {\n",
    "    'im2latex_train': \"http://lstm.seas.harvard.edu/latex/data/im2latex_train_filter.lst\",\n",
    "    'im2latex_val': \"http://lstm.seas.harvard.edu/latex/data/im2latex_validate_filter.lst\",\n",
    "    'im2latex_test': \"http://lstm.seas.harvard.edu/latex/data/im2latex_test_filter.lst\",\n",
    "    'formula_images': \"http://lstm.seas.harvard.edu/latex/data/formula_images_processed.tar.gz\",\n",
    "    'formulas_norm': \"http://lstm.seas.harvard.edu/latex/data/im2latex_formulas.norm.lst\",\n",
    "    # 'formulas_tokenized': \"http://lstm.seas.harvard.edu/latex/data/im2latex_formulas.tok.lst\",\n",
    "}\n",
    "\n",
    "DATA_DIR = \"data/\"\n",
    "# os.mkdir(DATA_DIR)\n",
    "for url in data_paths.values():\n",
    "    download_dataset(url, DATA_DIR)"
   ]
  },
  {
   "cell_type": "code",
   "execution_count": null,
   "metadata": {
    "id": "l07d4iGwP_jS"
   },
   "outputs": [],
   "source": [
    "%cd data\n",
    "!tar xvzf formula_images_processed.tar.gz"
   ]
  },
  {
   "cell_type": "code",
   "execution_count": 6,
   "metadata": {
    "colab": {
     "base_uri": "https://localhost:8080/"
    },
    "id": "aqKng8q1QLVy",
    "outputId": "108f46bc-ca31-4011-b85a-fb7c7c7d5c69"
   },
   "outputs": [
    {
     "name": "stdout",
     "output_type": "stream",
     "text": [
      "Pairs in new train set: 3858\n",
      "Pairs in new validate set: 421\n"
     ]
    }
   ],
   "source": [
    "os.remove('formula_images_processed.tar.gz')\n",
    "\n",
    "for line in os.listdir():\n",
    "    new_line = \"_\".join(line.split(\"_\")[1:])\n",
    "    os.rename(line, new_line)\n",
    "os.chdir('..')\n",
    "\n",
    "IMAGES_DIR = join(DATA_DIR, \"images_processed\")\n",
    "split = [\"train\", \"validate\"] # \"test\"\n",
    "\n",
    "for s in split:\n",
    "    sampled_lines = []\n",
    "    map_file = join(DATA_DIR, s + \"_filter.lst\")\n",
    "    with open(map_file, 'r') as f:\n",
    "        for line in f:\n",
    "            if random.uniform(0, 1) < 0.05:\n",
    "                sampled_lines.append(line.strip('\\n'))\n",
    "    print(f\"Pairs in new {s} set: {len(sampled_lines)}\")\n",
    "    new_data = \"\\n\".join(sampled_lines)\n",
    "    os.remove(f'data/{s}_filter.lst')\n",
    "    with open(f\"data/{s}_filter.lst\", 'w') as f:\n",
    "        f.write(new_data)"
   ]
  }
 ],
 "metadata": {
  "colab": {
   "name": "dataset.ipynb",
   "provenance": [],
   "toc_visible": true
  },
  "kernelspec": {
   "display_name": "Python 3",
   "language": "python",
   "name": "python3"
  },
  "language_info": {
   "codemirror_mode": {
    "name": "ipython",
    "version": 3
   },
   "file_extension": ".py",
   "mimetype": "text/x-python",
   "name": "python",
   "nbconvert_exporter": "python",
   "pygments_lexer": "ipython3",
   "version": "3.8.5"
  }
 },
 "nbformat": 4,
 "nbformat_minor": 4
}
